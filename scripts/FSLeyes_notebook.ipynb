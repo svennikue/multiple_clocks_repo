{
 "cells": [
  {
   "cell_type": "markdown",
   "id": "e96a0456",
   "metadata": {},
   "source": [
    "![banner](/custom/banner.png)\n",
    "\n",
    "\n",
    "# FSLeyes Jupyter notebook\n",
    "\n",
    "\n",
    "## Help\n",
    "\n",
    "\n",
    "Use the built-in `help` function to get help on anything in the shell\n",
    "environment, whether it is a module, function, class, or object:\n",
    "\n",
    "    help(load)\n",
    "\n",
    "\n",
    "\n",
    "## Overlays\n",
    "\n",
    "\n",
    "The `overlayList` is a list which contains all of the overlays that have been\n",
    "loaded into FSLeyes.  You can load overlays by using the `load` function,\n",
    "e.g.:\n",
    "\n",
    "    std = load('MNI152_T1_2mm.nii.gz')\n",
    "\n",
    "\n",
    "You can remove an overlay simply by removing it from the `overlayList`:\n",
    "\n",
    "    del overlayList[0]\n",
    "\n",
    "\n",
    "## Display settings\n",
    "\n",
    "\n",
    "You can use the `displayCtx` to access the display settings for an\n",
    "overlay. Display settings for an overlay are divided between two objects:\n",
    "\n",
    " - A `Display` object, which contains general display settings\n",
    " - A `DisplayOpts` object, which contains display settings specific to the\n",
    "   overlay type\n",
    "\n",
    "\n",
    "You can access these objects like so:\n",
    "\n",
    "    overlay = overlayList[0]\n",
    "    display = displayCtx.getDisplay(overlay)\n",
    "    opts    = displayCtx.getOpts(   overlay)\n",
    "\n",
    "\n",
    "Then adjusting the overlay display settings is easy:\n",
    "\n",
    "\n",
    "    display.brightness = 75\n",
    "    opts.cmap          = 'hot'\n",
    "\n",
    "\n",
    "## FSL commands\n",
    "\n",
    "\n",
    "Many FSL commands can be called through Python functions, e.g.:\n",
    "\n",
    "    flirt('src.nii.gz', 'ref.nii.gz', applyxfm=True, init='src2ref.mat')\n",
    "\n",
    "\n",
    "For commands which produce output images, you can have the outputs loaded\n",
    "directly into FSLeyes by using the special `LOAD` symbol:\n",
    "\n",
    "    struc = Image('struct.nii.gz')\n",
    "    bet(struc, LOAD)\n",
    "\n",
    "\n",
    "To submit a command as a cluster job, use the `submit` flag:\n",
    "\n",
    "    fnirt('src.nii.gz', 'ref.nii.gz', submit=True)\n",
    "\n",
    "\n",
    "## User interface\n",
    "\n",
    "\n",
    "You can access the current views in FSLeyes through the ``frame`` object:\n",
    "\n",
    "    ortho = frame.viewPanels[0]\n",
    "\n",
    "\n",
    "You also can add/remove views through the ``frame``:\n",
    "\n",
    "\n",
    "    frame.removeViewPanel(ortho)\n",
    "    frame.addViewPanel(Scene3DPanel)\n",
    "\n",
    "\n",
    "## Screenshots\n",
    "\n",
    "\n",
    "To insert a screenshot of the currently displayed scene into the notebook, use\n",
    "the `screenshot` function:\n",
    "\n",
    "    ortho = frame.viewPanels[0]\n",
    "    screenshot(ortho)\n",
    "\n",
    "\n",
    "## Reproducing a scene\n",
    "\n",
    "\n",
    "The `getState` function returns a string which describes the current FSLeyes\n",
    "state. This string describes the current FSLeyes user interface (views,\n",
    "controls, and toolbars) as well as all loaded overlays and their display\n",
    "settings.\n",
    "\n",
    "\n",
    "You can also use the `setState` function to reproduce a previously generated\n",
    "FSLeyes state.\n",
    "\n",
    "\n",
    "To make your notebook reproduce your FSLeyes setup, set up your user interface\n",
    "and overlays how you want, and then call `getState` to get a description of\n",
    "the current FSLeyes setup:\n",
    "\n",
    "\n",
    "    getState()\n",
    "\n",
    "\n",
    "Now copy the string that `getState` generates, and then at the top of your\n",
    "notebook add a call to `setState`, passing in that string, e.g.:\n",
    "\n",
    "    fsleyesState = 'OrthoPanel\\nlayout2|name=OrthoPanel 1;caption=...'\n",
    "    setState(fsleyesState)\n",
    "\n",
    "\n",
    "## For more information\n",
    "\n",
    "See the FSLeyes and `fslpy` API documentation:\n",
    "\n",
    " - https://open.win.ox.ac.uk/pages/fsl/fsleyes/fsleyes/apidoc/\n",
    " - https://open.win.ox.ac.uk/pages/fsl/fslpy/"
   ]
  },
  {
   "cell_type": "code",
   "execution_count": 1,
   "id": "3a846689",
   "metadata": {},
   "outputs": [
    {
     "data": {
      "text/plain": [
       "[Image(MNI152_T1_2mm, /Users/xpsy1114/fsl/data/standard/MNI152_T1_2mm.nii.gz)]"
      ]
     },
     "execution_count": 1,
     "metadata": {},
     "output_type": "execute_result"
    }
   ],
   "source": [
    "overlayList"
   ]
  },
  {
   "cell_type": "code",
   "execution_count": 2,
   "id": "c70a6ec1",
   "metadata": {},
   "outputs": [
    {
     "data": {
      "text/plain": [
       "{'output': Image(output, None)}"
      ]
     },
     "execution_count": 2,
     "metadata": {},
     "output_type": "execute_result"
    }
   ],
   "source": [
    "std = overlayList[0]\n",
    "bet(std, output=LOAD)\n"
   ]
  },
  {
   "cell_type": "code",
   "execution_count": 3,
   "id": "f6cf4634",
   "metadata": {},
   "outputs": [
    {
     "data": {
      "text/plain": [
       "[Image(MNI152_T1_2mm, /Users/xpsy1114/fsl/data/standard/MNI152_T1_2mm.nii.gz), Image(output, None)]"
      ]
     },
     "execution_count": 3,
     "metadata": {},
     "output_type": "execute_result"
    }
   ],
   "source": [
    "overlayList"
   ]
  },
  {
   "cell_type": "code",
   "execution_count": 4,
   "id": "c5e41702",
   "metadata": {},
   "outputs": [],
   "source": [
    "overlay = overlayList[1]\n",
    "\n",
    "display       = displayCtx.getDisplay(overlay)\n",
    "display.alpha = 50\n",
    "\n",
    "opts      = displayCtx.getOpts(   overlay)\n",
    "opts.cmap = 'red-yellow'"
   ]
  },
  {
   "cell_type": "code",
   "execution_count": 5,
   "id": "3eef970e",
   "metadata": {},
   "outputs": [],
   "source": [
    "# Import a useful resampling function\n",
    "from fsl.utils.image.resample import resampleToPixdims\n",
    "\n",
    "# the tensor is the latest overlay:\n",
    "tensor_1mm = overlayList[-1]\n",
    "\n",
    "# resampling outputs a numpy array as well as the new xform to put in the header for display in FSLeyes\n",
    "tensor_2mm, xform = resampleToPixdims(tensor_1mm, [2,2,2,1])\n",
    "\n",
    "# we need to add the resampled tensor to the overlay list. \n",
    "# we can't just add a numpy array, it needs to be an \"Image\" object, with the correct xform:\n",
    "overlayList.append(Image(tensor_2mm, xform=xform), name='tensor2mm', cmap='grey')\n",
    "\n",
    "# we can delete the 1mm tensor:\n",
    "del overlayList[-2]"
   ]
  },
  {
   "cell_type": "code",
   "execution_count": 6,
   "id": "d82c07c7",
   "metadata": {},
   "outputs": [],
   "source": [
    "# short way of getting the 6 tensor elements\n",
    "# the transpose just puts the 4th dimension first so we can \n",
    "# get the separate 3D files as if it were a list\n",
    "Dxx, Dxy, Dxz, Dyy, Dyz, Dzz = np.transpose(tensor_2mm,(3,0,1,2))\n",
    "# take the mean of the diagonal elements\n",
    "MD = (Dxx+Dyy+Dzz)/3.\n",
    "# add to the overlay list\n",
    "overlayList.append(Image(MD, xform=xform), name='MD', cmap='grey')"
   ]
  },
  {
   "cell_type": "code",
   "execution_count": 7,
   "id": "607b185f",
   "metadata": {},
   "outputs": [],
   "source": [
    "# fslmaths works a little bit like command line interface\n",
    "# you keep appending options and run .run() at the end\n",
    "MD = fslmaths(Image(Dxx)).add(Image(Dyy)).add(Image(Dzz)).div(3.).run()\n",
    "# the result of fslmaths is an Image object but with the wrong header\n",
    "# below we just get the data as numpy array and use that to create a new object \n",
    "# to add to the overlay list with the correct header\n",
    "MD = MD.data\n",
    "overlayList.append(Image(MD, xform=xform), name='MD_fslmaths', cmap='grey')"
   ]
  },
  {
   "cell_type": "code",
   "execution_count": 8,
   "id": "4c48b6f3",
   "metadata": {},
   "outputs": [],
   "source": [
    "L1, L2, L3 = np.zeros_like(MD), np.zeros_like(MD), np.zeros_like(MD)\n",
    "mask = MD>0\n",
    "for x in range(tensor_2mm.shape[0]):\n",
    "    for y in range(tensor_2mm.shape[1]):\n",
    "        for z in range(tensor_2mm.shape[2]):\n",
    "            if mask[x,y,z]:\n",
    "                tens = np.array([[Dxx[x,y,z], Dxy[x,y,z], Dxz[x,y,z]],\n",
    "                                 [Dxy[x,y,z], Dyy[x,y,z], Dyz[x,y,z]],\n",
    "                                 [Dxz[x,y,z], Dyz[x,y,z], Dzz[x,y,z]]])\n",
    "                L, _ = np.linalg.eigh(tens)\n",
    "                L1[x,y,z] = L[2]\n",
    "                L2[x,y,z] = L[1]\n",
    "                L3[x,y,z] = L[0]"
   ]
  },
  {
   "cell_type": "code",
   "execution_count": 9,
   "id": "33ba21a6",
   "metadata": {},
   "outputs": [],
   "source": [
    "numer = np.sqrt((L1-MD)**2+(L2-MD)**2+(L3-MD)**2)\n",
    "denom   = np.sqrt(L1**2+L2**2+L3**2)\n",
    "FA    = numer/denom*np.sqrt(3/2)\n",
    "\n",
    "# remove nans from outside the brain mask\n",
    "FA[np.isnan(FA)] = 0.\n",
    "# add to the list\n",
    "overlayList.append(Image(FA, xform=xform), name='FA', cmap='grey')"
   ]
  },
  {
   "cell_type": "code",
   "execution_count": 10,
   "id": "2094ac41",
   "metadata": {},
   "outputs": [],
   "source": [
    "opts.cmap = 'red-yellow'"
   ]
  },
  {
   "cell_type": "code",
   "execution_count": null,
   "id": "91c43d11",
   "metadata": {},
   "outputs": [],
   "source": []
  },
  {
   "cell_type": "code",
   "execution_count": null,
   "id": "5a60d53f",
   "metadata": {},
   "outputs": [],
   "source": []
  }
 ],
 "metadata": {
  "kernelspec": {
   "display_name": "Python 3 (ipykernel)",
   "language": "python",
   "name": "python3"
  },
  "language_info": {
   "codemirror_mode": {
    "name": "ipython",
    "version": 3
   },
   "file_extension": ".py",
   "mimetype": "text/x-python",
   "name": "python",
   "nbconvert_exporter": "python",
   "pygments_lexer": "ipython3",
   "version": "3.11.6"
  }
 },
 "nbformat": 4,
 "nbformat_minor": 5
}
